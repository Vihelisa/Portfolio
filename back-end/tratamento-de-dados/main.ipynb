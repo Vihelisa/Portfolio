{
 "cells": [
  {
   "cell_type": "markdown",
   "metadata": {},
   "source": [
    "Imports"
   ]
  },
  {
   "cell_type": "code",
   "execution_count": 3,
   "metadata": {},
   "outputs": [],
   "source": [
    "from datetime import datetime, timedelta\n",
    "from database.product_db import product_db\n",
    "from database.sale_order_db import sale_order_db"
   ]
  },
  {
   "cell_type": "markdown",
   "metadata": {},
   "source": [
    "Variables"
   ]
  },
  {
   "cell_type": "code",
   "execution_count": 4,
   "metadata": {},
   "outputs": [],
   "source": [
    "dateList = []\n",
    "numdays = 8\n",
    "product_id_list = []\n",
    "id_list = []\n"
   ]
  },
  {
   "cell_type": "markdown",
   "metadata": {},
   "source": [
    "Functions"
   ]
  },
  {
   "cell_type": "code",
   "execution_count": 5,
   "metadata": {},
   "outputs": [],
   "source": [
    "def range_date(selected_date_to):\n",
    "    numdays = 8\n",
    "    dateList = []\n",
    "    for x in range (0, numdays):\n",
    "        dateList.append(selected_date_to - timedelta(days = x))\n",
    "    #print(dateList)\n",
    "    return dateList"
   ]
  },
  {
   "cell_type": "code",
   "execution_count": 6,
   "metadata": {},
   "outputs": [],
   "source": [
    "def get_kpis(selected_date_from, selected_date_to):\n",
    "\t# Your goal is to develop a function that returns the following kpis between two given dates as inputs:\n",
    "\t# - total revenue before cancellation (sale's total income, sum of the product's full price, counting the canceled orders as well)\n",
    "\t# - cancellation rate (amount of cancelled sale orders / total amount of sale orders)\n",
    "\t# The variable product_db contains a list of all products, where each item is a dictionary with the product's id, full price and gross cost.\n",
    "\t# And sale_order_db contains a list of sale orders, where each item is a dictionary with the sale's id, customer's id, a list of purchased products, sale's date and is_canceled boolean value.\n",
    "\n",
    "\t# A little help:\n",
    "\tselected_date_from = datetime.strptime(selected_date_from, '%Y-%m-%d')\n",
    "\tselected_date_to = datetime.strptime(selected_date_to, '%Y-%m-%d')\n",
    "\n",
    "\tdateList = range_date(selected_date_to)\n",
    "\t#id_list = make_product_id_list(product_id_list, dateList)\n",
    "\t#print(product_id_list)\n",
    "\t\n",
    "\t\n",
    "\t'''kpis = {\n",
    "\t\t'total_revenue_before_cancellation': total_revenue,\n",
    "\t\t'cancellation_rate': None,\n",
    "\t}'''\n",
    "\n",
    "\treturn dateList\n",
    "\n"
   ]
  },
  {
   "cell_type": "code",
   "execution_count": null,
   "metadata": {},
   "outputs": [],
   "source": [
    "for sale in "
   ]
  },
  {
   "cell_type": "markdown",
   "metadata": {},
   "source": [
    "Main"
   ]
  },
  {
   "cell_type": "code",
   "execution_count": 7,
   "metadata": {},
   "outputs": [
    {
     "name": "stdout",
     "output_type": "stream",
     "text": [
      "[datetime.datetime(2021, 7, 8, 0, 0), datetime.datetime(2021, 7, 7, 0, 0), datetime.datetime(2021, 7, 6, 0, 0), datetime.datetime(2021, 7, 5, 0, 0), datetime.datetime(2021, 7, 4, 0, 0), datetime.datetime(2021, 7, 3, 0, 0), datetime.datetime(2021, 7, 2, 0, 0), datetime.datetime(2021, 7, 1, 0, 0)]\n"
     ]
    }
   ],
   "source": [
    "kpis = get_kpis('2021-07-01', '2021-07-08')\n",
    "print(kpis)"
   ]
  },
  {
   "cell_type": "code",
   "execution_count": 38,
   "metadata": {},
   "outputs": [],
   "source": []
  },
  {
   "cell_type": "code",
   "execution_count": null,
   "metadata": {},
   "outputs": [],
   "source": []
  },
  {
   "cell_type": "code",
   "execution_count": 14,
   "metadata": {},
   "outputs": [
    {
     "name": "stdout",
     "output_type": "stream",
     "text": [
      "[datetime.datetime(2021, 7, 1, 0, 0), datetime.datetime(2021, 7, 8, 0, 0)]\n"
     ]
    },
    {
     "ename": "IndexError",
     "evalue": "list index out of range",
     "output_type": "error",
     "traceback": [
      "\u001b[1;31m---------------------------------------------------------------------------\u001b[0m",
      "\u001b[1;31mIndexError\u001b[0m                                Traceback (most recent call last)",
      "Cell \u001b[1;32mIn[14], line 5\u001b[0m\n\u001b[0;32m      3\u001b[0m i\u001b[39m=\u001b[39m\u001b[39m0\u001b[39m\n\u001b[0;32m      4\u001b[0m \u001b[39mfor\u001b[39;00m date \u001b[39min\u001b[39;00m dateList:\n\u001b[1;32m----> 5\u001b[0m     \u001b[39mif\u001b[39;00m date \u001b[39m!=\u001b[39m list_test[i]:\n\u001b[0;32m      6\u001b[0m         i\u001b[39m=\u001b[39mi\u001b[39m+\u001b[39m\u001b[39m1\u001b[39m\n\u001b[0;32m      7\u001b[0m     \u001b[39melse\u001b[39;00m:\n",
      "\u001b[1;31mIndexError\u001b[0m: list index out of range"
     ]
    }
   ],
   "source": [
    "list_test = [selected_date_from, selected_date_to]\n",
    "print(list_test)\n",
    "i=0\n",
    "for date in dateList:\n",
    "    if date != list_test[i]:\n",
    "        i=i+1\n",
    "    else:\n",
    "        print(date)\n",
    "        pass\n",
    "    "
   ]
  },
  {
   "cell_type": "code",
   "execution_count": 13,
   "metadata": {},
   "outputs": [
    {
     "name": "stdout",
     "output_type": "stream",
     "text": [
      "2021-07-08 00:00:00\n",
      "2021-07-07 00:00:00\n",
      "2021-07-06 00:00:00\n",
      "2021-07-05 00:00:00\n",
      "2021-07-04 00:00:00\n",
      "2021-07-03 00:00:00\n",
      "2021-07-02 00:00:00\n",
      "2021-07-01 00:00:00\n"
     ]
    }
   ],
   "source": []
  }
 ],
 "metadata": {
  "kernelspec": {
   "display_name": "Python 3.10.8 64-bit (microsoft store)",
   "language": "python",
   "name": "python3"
  },
  "language_info": {
   "codemirror_mode": {
    "name": "ipython",
    "version": 3
   },
   "file_extension": ".py",
   "mimetype": "text/x-python",
   "name": "python",
   "nbconvert_exporter": "python",
   "pygments_lexer": "ipython3",
   "version": "3.10.8"
  },
  "orig_nbformat": 4,
  "vscode": {
   "interpreter": {
    "hash": "99abf437bd49d457a9b0e96bace089aea2defa745d9d81532a51135fe46d6b5f"
   }
  }
 },
 "nbformat": 4,
 "nbformat_minor": 2
}
